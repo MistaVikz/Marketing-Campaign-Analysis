{
 "cells": [
  {
   "cell_type": "markdown",
   "id": "a6a5fcdb-5627-4237-93b3-95cde7509bbe",
   "metadata": {},
   "source": [
    "# Email A/B Test\n",
    "Half of all email adds were generic upsell ads (variant=\"control\"), while the other half were personalized messages based on user's site usage (variant=\"personalization\"). Asuming that a 95% confidence interval for statistical significance (p-value = 0.05 in T-test). Determine the conversion rate lift and it's statistical significance both overall and for each age group."
   ]
  },
  {
   "cell_type": "code",
   "execution_count": 62,
   "id": "40c80b8d-f85d-4360-a18f-fc54edaf8b4f",
   "metadata": {},
   "outputs": [
    {
     "name": "stderr",
     "output_type": "stream",
     "text": [
      "C:\\Users\\markd\\AppData\\Local\\Temp\\ipykernel_13764\\2253303890.py:39: UserWarning: Could not infer format, so each element will be parsed individually, falling back to `dateutil`. To ensure parsing is consistent and as-expected, please specify a format.\n",
      "  marketing=pd.read_csv(\"marketing.csv\", parse_dates=[\"date_served\",\"date_subscribed\",\"date_canceled\"])\n",
      "C:\\Users\\markd\\AppData\\Local\\Temp\\ipykernel_13764\\2253303890.py:39: UserWarning: Could not infer format, so each element will be parsed individually, falling back to `dateutil`. To ensure parsing is consistent and as-expected, please specify a format.\n",
      "  marketing=pd.read_csv(\"marketing.csv\", parse_dates=[\"date_served\",\"date_subscribed\",\"date_canceled\"])\n",
      "C:\\Users\\markd\\AppData\\Local\\Temp\\ipykernel_13764\\2253303890.py:39: UserWarning: Could not infer format, so each element will be parsed individually, falling back to `dateutil`. To ensure parsing is consistent and as-expected, please specify a format.\n",
      "  marketing=pd.read_csv(\"marketing.csv\", parse_dates=[\"date_served\",\"date_subscribed\",\"date_canceled\"])\n"
     ]
    }
   ],
   "source": [
    "import pandas as pd\n",
    "import numpy as np\n",
    "import matplotlib.pyplot as plt\n",
    "from scipy import stats\n",
    "\n",
    "# Calculates the lift\n",
    "def get_lift(a,b):\n",
    "    a_mean = np.mean(a)\n",
    "    b_mean = np.mean(b)\n",
    "\n",
    "    lift = (b_mean - a_mean) / a_mean\n",
    "    return str(round(lift,2)) \n",
    "\n",
    "# Calculates the lift and runs an independent t-test for every segment\n",
    "def test_segment(segment):\n",
    "  for subsegment in np.unique(marketing[segment].values):\n",
    "    print(subsegment)\n",
    "      \n",
    "    # Limit marketing to email and subsegment      \n",
    "    email = marketing[(marketing[\"marketing_channel\"] == \"Email\") & (marketing[segment] == subsegment)]\n",
    "\n",
    "    subscribers = email.groupby([\"user_id\", \"variant\"])[\"converted\"].max()\n",
    "    subscribers = pd.DataFrame(subscribers.unstack(level=1)) \n",
    "    control = pd.DataFrame(subscribers[\"control\"].dropna())\n",
    "    personalization = pd.DataFrame(subscribers[\"personalization\"].dropna())\n",
    "    control[\"control\"]=control[\"control\"].astype(int)\n",
    "    personalization[\"personalization\"]=personalization[\"personalization\"].astype(int)\n",
    "      \n",
    "    print(\"Lift: \", get_lift(control, personalization))\n",
    "    t_stat,p_value = stats.ttest_ind(control, personalization)\n",
    "    print(\"p_value: \" + str(p_value))\n",
    "\n",
    "    if p_value < 0.05:\n",
    "        print(\"The Lift is statistically significant for this segment\\n\")\n",
    "    else:\n",
    "        print(\"The Lift is not statistically signiciant for this segment\\n\")\n",
    "\n",
    "# Load data and transform\n",
    "marketing=pd.read_csv(\"marketing.csv\", parse_dates=[\"date_served\",\"date_subscribed\",\"date_canceled\"])\n",
    "marketing['is_retained']=marketing[\"is_retained\"].astype(\"bool\")"
   ]
  },
  {
   "cell_type": "code",
   "execution_count": 64,
   "id": "d8dd7b9c-5510-497e-80f1-6153bceb4310",
   "metadata": {},
   "outputs": [
    {
     "name": "stdout",
     "output_type": "stream",
     "text": [
      "OVERALL CONVERSION RATE\n",
      "Control Conversion rate: 0.2814814814814815\n",
      "Personalization Conversion rate: 0.3908450704225352\n",
      "Lift: 0.39\n",
      "p-value : [0.00645149]\n",
      "The lift is statistically significant\n",
      "\n",
      "\n",
      "CONVERSION RATE LIFT BY AGE GROUP\n",
      "0-18 years\n",
      "Lift:  1.21\n",
      "p_value: [0.00387245]\n",
      "The Lift is statistically significant for this segment\n",
      "\n",
      "19-24 years\n",
      "Lift:  1.06\n",
      "p_value: [0.00306238]\n",
      "The Lift is statistically significant for this segment\n",
      "\n",
      "24-30 years\n",
      "Lift:  1.61\n",
      "p_value: [0.00018743]\n",
      "The Lift is statistically significant for this segment\n",
      "\n",
      "30-36 years\n",
      "Lift:  -1.0\n",
      "p_value: [0.00232385]\n",
      "The Lift is statistically significant for this segment\n",
      "\n",
      "36-45 years\n",
      "Lift:  -0.85\n",
      "p_value: [0.01797569]\n",
      "The Lift is statistically significant for this segment\n",
      "\n",
      "45-55 years\n",
      "Lift:  -0.72\n",
      "p_value: [0.04306234]\n",
      "The Lift is statistically significant for this segment\n",
      "\n",
      "55+ years\n",
      "Lift:  -1.0\n",
      "p_value: [0.00163586]\n",
      "The Lift is statistically significant for this segment\n",
      "\n"
     ]
    }
   ],
   "source": [
    "# Determine Conversion Rates and lift\n",
    "sub = email.groupby([\"user_id\",\"variant\"])[\"converted\"].max()\n",
    "df_sub = pd.DataFrame(sub.unstack(level=1))\n",
    "control = pd.DataFrame(df_sub[\"control\"].dropna())\n",
    "personalization = pd.DataFrame(df_sub[\"personalization\"].dropna())\n",
    "\n",
    "print(\"OVERALL CONVERSION RATE\") \n",
    "print(\"Control Conversion rate: \" + str(np.mean(control)))\n",
    "print(\"Personalization Conversion rate: \" + str(np.mean(personalization)))\n",
    "print(\"Lift: \" + get_lift(control,personalization))\n",
    "\n",
    "# Convert to numeric and perform indepedent t-test\n",
    "control[\"control\"]=control[\"control\"].astype(int)\n",
    "personalization[\"personalization\"]=personalization[\"personalization\"].astype(int)\n",
    "t_stat,p_value = stats.ttest_ind(personalization,control)\n",
    "print(\"p-value : \" + str(p_value))\n",
    "if p_value < 0.05:\n",
    "    print(\"The lift is statistically significant\\n\\n\")\n",
    "else:\n",
    "    print(\"The lift is not statistically significant\\n\\n\")\n",
    "\n",
    "# Determine lift for each age group and run independent t-test\n",
    "print(\"CONVERSION RATE LIFT BY AGE GROUP\")\n",
    "test_segment(\"age_group\")"
   ]
  },
  {
   "cell_type": "markdown",
   "id": "c8b5c7bf-8cdb-4dad-944c-1a219e680893",
   "metadata": {},
   "source": [
    "The personalized emails resulted in a 39% lift in conversions. This is statistically significant with 95% confidence. The lift was positive for customers younger than 30, while negaive for older customers. The lifts are statistically significant for all age groups. "
   ]
  },
  {
   "cell_type": "code",
   "execution_count": null,
   "id": "3e7d1d7e-c7e3-4b46-bbaf-127b62b55190",
   "metadata": {},
   "outputs": [],
   "source": []
  }
 ],
 "metadata": {
  "kernelspec": {
   "display_name": "Python 3 (ipykernel)",
   "language": "python",
   "name": "python3"
  },
  "language_info": {
   "codemirror_mode": {
    "name": "ipython",
    "version": 3
   },
   "file_extension": ".py",
   "mimetype": "text/x-python",
   "name": "python",
   "nbconvert_exporter": "python",
   "pygments_lexer": "ipython3",
   "version": "3.11.5"
  }
 },
 "nbformat": 4,
 "nbformat_minor": 5
}
